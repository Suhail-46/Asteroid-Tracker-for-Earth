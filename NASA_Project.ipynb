{
  "nbformat": 4,
  "nbformat_minor": 0,
  "metadata": {
    "colab": {
      "provenance": [],
      "authorship_tag": "ABX9TyOkhlcRRVJuiVeHuV+CI50X",
      "include_colab_link": true
    },
    "kernelspec": {
      "name": "python3",
      "display_name": "Python 3"
    },
    "language_info": {
      "name": "python"
    }
  },
  "cells": [
    {
      "cell_type": "markdown",
      "metadata": {
        "id": "view-in-github",
        "colab_type": "text"
      },
      "source": [
        "<a href=\"https://colab.research.google.com/github/Suhail-46/Asteroid-Tracker-for-Earth/blob/main/NASA_Project.ipynb\" target=\"_parent\"><img src=\"https://colab.research.google.com/assets/colab-badge.svg\" alt=\"Open In Colab\"/></a>"
      ]
    },
    {
      "cell_type": "code",
      "execution_count": null,
      "metadata": {
        "colab": {
          "base_uri": "https://localhost:8080/"
        },
        "id": "O9GuywqNZpIF",
        "outputId": "129754cd-2893-4407-9b83-40a0fadb2e5b"
      },
      "outputs": [
        {
          "output_type": "stream",
          "name": "stdout",
          "text": [
            "Collecting mysql-connector-python\n",
            "  Downloading mysql_connector_python-9.3.0-cp311-cp311-manylinux_2_28_x86_64.whl.metadata (7.2 kB)\n",
            "Downloading mysql_connector_python-9.3.0-cp311-cp311-manylinux_2_28_x86_64.whl (33.9 MB)\n",
            "\u001b[2K   \u001b[90m━━━━━━━━━━━━━━━━━━━━━━━━━━━━━━━━━━━━━━━━\u001b[0m \u001b[32m33.9/33.9 MB\u001b[0m \u001b[31m54.1 MB/s\u001b[0m eta \u001b[36m0:00:00\u001b[0m\n",
            "\u001b[?25hInstalling collected packages: mysql-connector-python\n",
            "Successfully installed mysql-connector-python-9.3.0\n"
          ]
        }
      ],
      "source": [
        "pip install mysql-connector-python # installation of SQL connector"
      ]
    },
    {
      "cell_type": "code",
      "source": [
        "# Code used to scrape 10000 data from NASA API\n",
        "import requests\n",
        "import pprint\n",
        "api_key = \"zVrrXmXMHFlLP3ow0eNmYfJ2RWaMrjyKJi9eBYvl\"\n",
        "asteroids_data = [] # Created empty list to store the collection of values from scraping\n",
        "target = 10000\n",
        "url = f\"https://api.nasa.gov/neo/rest/v1/feed?start_date=2024-01-01&end_date=2024-01-07&api_key={api_key}\" # Request given to collect data within date range of 2024-01-01 to 2024-01-07\n",
        "response = requests.get(url)\n",
        "data = response.json()\n",
        "details = data[\"near_earth_objects\"]\n",
        "while len(asteroids_data) < target: # Loop used to collect 10000 data\n",
        "  for date, ast_details in details.items(): # Loop used to collect the data based on range of date\n",
        "      for ast in ast_details: # Loop used to extract the field\n",
        "        asteroids_data.append(dict(\n",
        "            id = ast[\"id\"],\n",
        "            neo_reference_id = ast[\"neo_reference_id\"],\n",
        "            name = ast[\"name\"],\n",
        "            absolute_magnitude_h = ast[\"absolute_magnitude_h\"],\n",
        "            estimated_diameter_min_km = ast[\"estimated_diameter\"][\"kilometers\"][\"estimated_diameter_min\"],\n",
        "            estimated_diameter_max_km = ast[\"estimated_diameter\"][\"kilometers\"][\"estimated_diameter_max\"],\n",
        "            is_potentially_hazardous_asteroid = ast[\"is_potentially_hazardous_asteroid\"],\n",
        "            close_approach_date = ast[\"close_approach_data\"][0][\"close_approach_date\"],\n",
        "            relative_velocity_kmph = ast[\"close_approach_data\"][0][\"relative_velocity\"][\"kilometers_per_hour\"],\n",
        "            astronomical = ast[\"close_approach_data\"][0][\"miss_distance\"][\"astronomical\"],\n",
        "            miss_distance_km = ast[\"close_approach_data\"][0][\"miss_distance\"][\"kilometers\"],\n",
        "            miss_distance_lunar = ast[\"close_approach_data\"][0][\"miss_distance\"][\"lunar\"],\n",
        "            orbiting_body = ast[\"close_approach_data\"][0][\"orbiting_body\"]\n",
        "        ))\n",
        "        if len(asteroids_data) == target:\n",
        "            break # Loop breaks once all fields of data collected\n",
        "      if len(asteroids_data) == target:\n",
        "        break # Loop breaks once all data collected within the range of date\n",
        "url = data[\"links\"][\"next\"] # The loops were applied to the next page of API\n",
        "# Two list of data is extracted to feed on the table as per the requirement\n",
        "asteroids_list = [] # Created an empty list to store data of asteroids with respect to the requirement of asteroids table\n",
        "for asteroids in asteroids_data:\n",
        "    asteroids_list.append((\n",
        "        asteroids['id'],\n",
        "        asteroids['name'],\n",
        "        asteroids['absolute_magnitude_h'],\n",
        "        asteroids['estimated_diameter_min_km'],\n",
        "        asteroids['estimated_diameter_max_km'],\n",
        "        asteroids['is_potentially_hazardous_asteroid']\n",
        "    ))\n",
        "close_approach_list = [] # Created an empty list to store data of close approach with respect to the requirement of close_approach table\n",
        "for close_approach in asteroids_data:\n",
        "    close_approach_list.append((\n",
        "        close_approach['neo_reference_id'],\n",
        "        close_approach['close_approach_date'],\n",
        "        close_approach['relative_velocity_kmph'],\n",
        "        close_approach['astronomical'],\n",
        "        close_approach['miss_distance_km'],\n",
        "        close_approach['miss_distance_lunar'],\n",
        "        close_approach['orbiting_body']\n",
        "    ))"
      ],
      "metadata": {
        "id": "kG4FpagMafuQ"
      },
      "execution_count": null,
      "outputs": []
    },
    {
      "cell_type": "code",
      "source": [
        "# Code to create table and insert the bulk of data into the created table\n",
        "import mysql.connector\n",
        "suhail = mysql.connector.connect(host=\"gateway01.ap-southeast-1.prod.aws.tidbcloud.com\",\n",
        "                                 user=\"2XT5EKXhUVwb2JW.root\",\n",
        "                                 password=\"YO7YdnLJV098Hccw\",\n",
        "                                 port = 4000,\n",
        "                                 database=\"NASA_Project\") # Establish DB connection using TiDB cloud\n",
        "connection = suhail.cursor()\n",
        "connection.execute(\"create table asteroids (id int, name varchar(20), absolute_magnitude_h float, estimated_diameter_min_km float, estimated_diameter_max_km float, is_potentially_hazardous_asteroid boolean, constraint pk_id primary key (id))\")\n",
        "connection.execute(\"create table close_approach (neo_reference_id int, close_approach_date date, relative_velocity_kmph float, astronomical float, miss_distance_km float, miss_distance_lunar float, orbiting_body varchar(20), constraint fk_neo_reference_id foreign key (neo_reference_id) references asteroids(id))\")\n",
        "insert_query_1 = '''INSERT IGNORE INTO asteroids (id, name, absolute_magnitude_h, estimated_diameter_min_km, estimated_diameter_max_km, is_potentially_hazardous_asteroid) VALUES (%s, %s, %s, %s, %s, %s)'''\n",
        "insert_query_2 = '''INSERT INTO close_approach (neo_reference_id, close_approach_date, relative_velocity_kmph, astronomical, miss_distance_km, miss_distance_lunar, orbiting_body) VALUES (%s, %s, %s, %s, %s, %s, %s)'''\n",
        "connection.executemany(insert_query_1, asteroids_list)\n",
        "connection.executemany(insert_query_2, close_approach_list)\n",
        "suhail.commit()\n",
        "print(\"Inserted asteroids and close_approach data into MySQL!\")"
      ],
      "metadata": {
        "colab": {
          "base_uri": "https://localhost:8080/"
        },
        "id": "ydgdIBcQbEgn",
        "outputId": "3d602662-a575-4389-ec05-733b916de0d2"
      },
      "execution_count": null,
      "outputs": [
        {
          "output_type": "stream",
          "name": "stdout",
          "text": [
            "Inserted asteroids and close_approach data into MySQL!\n"
          ]
        }
      ]
    },
    {
      "cell_type": "code",
      "source": [
        "!pip install streamlit streamlit_option_menu # installation of streamlit for data visualization"
      ],
      "metadata": {
        "colab": {
          "base_uri": "https://localhost:8080/"
        },
        "id": "VNW-4GIQbQNR",
        "outputId": "bbd97659-fb48-40d1-e14f-880fb5fd5a24"
      },
      "execution_count": null,
      "outputs": [
        {
          "output_type": "stream",
          "name": "stdout",
          "text": [
            "Collecting streamlit\n",
            "  Downloading streamlit-1.46.1-py3-none-any.whl.metadata (9.0 kB)\n",
            "Collecting streamlit_option_menu\n",
            "  Downloading streamlit_option_menu-0.4.0-py3-none-any.whl.metadata (2.5 kB)\n",
            "Requirement already satisfied: altair<6,>=4.0 in /usr/local/lib/python3.11/dist-packages (from streamlit) (5.5.0)\n",
            "Requirement already satisfied: blinker<2,>=1.5.0 in /usr/local/lib/python3.11/dist-packages (from streamlit) (1.9.0)\n",
            "Requirement already satisfied: cachetools<7,>=4.0 in /usr/local/lib/python3.11/dist-packages (from streamlit) (5.5.2)\n",
            "Requirement already satisfied: click<9,>=7.0 in /usr/local/lib/python3.11/dist-packages (from streamlit) (8.2.1)\n",
            "Requirement already satisfied: numpy<3,>=1.23 in /usr/local/lib/python3.11/dist-packages (from streamlit) (2.0.2)\n",
            "Requirement already satisfied: packaging<26,>=20 in /usr/local/lib/python3.11/dist-packages (from streamlit) (24.2)\n",
            "Requirement already satisfied: pandas<3,>=1.4.0 in /usr/local/lib/python3.11/dist-packages (from streamlit) (2.2.2)\n",
            "Requirement already satisfied: pillow<12,>=7.1.0 in /usr/local/lib/python3.11/dist-packages (from streamlit) (11.2.1)\n",
            "Requirement already satisfied: protobuf<7,>=3.20 in /usr/local/lib/python3.11/dist-packages (from streamlit) (5.29.5)\n",
            "Requirement already satisfied: pyarrow>=7.0 in /usr/local/lib/python3.11/dist-packages (from streamlit) (18.1.0)\n",
            "Requirement already satisfied: requests<3,>=2.27 in /usr/local/lib/python3.11/dist-packages (from streamlit) (2.32.3)\n",
            "Requirement already satisfied: tenacity<10,>=8.1.0 in /usr/local/lib/python3.11/dist-packages (from streamlit) (8.5.0)\n",
            "Requirement already satisfied: toml<2,>=0.10.1 in /usr/local/lib/python3.11/dist-packages (from streamlit) (0.10.2)\n",
            "Requirement already satisfied: typing-extensions<5,>=4.4.0 in /usr/local/lib/python3.11/dist-packages (from streamlit) (4.14.0)\n",
            "Collecting watchdog<7,>=2.1.5 (from streamlit)\n",
            "  Downloading watchdog-6.0.0-py3-none-manylinux2014_x86_64.whl.metadata (44 kB)\n",
            "\u001b[2K     \u001b[90m━━━━━━━━━━━━━━━━━━━━━━━━━━━━━━━━━━━━━━━━\u001b[0m \u001b[32m44.3/44.3 kB\u001b[0m \u001b[31m2.0 MB/s\u001b[0m eta \u001b[36m0:00:00\u001b[0m\n",
            "\u001b[?25hRequirement already satisfied: gitpython!=3.1.19,<4,>=3.0.7 in /usr/local/lib/python3.11/dist-packages (from streamlit) (3.1.44)\n",
            "Collecting pydeck<1,>=0.8.0b4 (from streamlit)\n",
            "  Downloading pydeck-0.9.1-py2.py3-none-any.whl.metadata (4.1 kB)\n",
            "Requirement already satisfied: tornado!=6.5.0,<7,>=6.0.3 in /usr/local/lib/python3.11/dist-packages (from streamlit) (6.4.2)\n",
            "Requirement already satisfied: jinja2 in /usr/local/lib/python3.11/dist-packages (from altair<6,>=4.0->streamlit) (3.1.6)\n",
            "Requirement already satisfied: jsonschema>=3.0 in /usr/local/lib/python3.11/dist-packages (from altair<6,>=4.0->streamlit) (4.24.0)\n",
            "Requirement already satisfied: narwhals>=1.14.2 in /usr/local/lib/python3.11/dist-packages (from altair<6,>=4.0->streamlit) (1.44.0)\n",
            "Requirement already satisfied: gitdb<5,>=4.0.1 in /usr/local/lib/python3.11/dist-packages (from gitpython!=3.1.19,<4,>=3.0.7->streamlit) (4.0.12)\n",
            "Requirement already satisfied: python-dateutil>=2.8.2 in /usr/local/lib/python3.11/dist-packages (from pandas<3,>=1.4.0->streamlit) (2.9.0.post0)\n",
            "Requirement already satisfied: pytz>=2020.1 in /usr/local/lib/python3.11/dist-packages (from pandas<3,>=1.4.0->streamlit) (2025.2)\n",
            "Requirement already satisfied: tzdata>=2022.7 in /usr/local/lib/python3.11/dist-packages (from pandas<3,>=1.4.0->streamlit) (2025.2)\n",
            "Requirement already satisfied: charset-normalizer<4,>=2 in /usr/local/lib/python3.11/dist-packages (from requests<3,>=2.27->streamlit) (3.4.2)\n",
            "Requirement already satisfied: idna<4,>=2.5 in /usr/local/lib/python3.11/dist-packages (from requests<3,>=2.27->streamlit) (3.10)\n",
            "Requirement already satisfied: urllib3<3,>=1.21.1 in /usr/local/lib/python3.11/dist-packages (from requests<3,>=2.27->streamlit) (2.4.0)\n",
            "Requirement already satisfied: certifi>=2017.4.17 in /usr/local/lib/python3.11/dist-packages (from requests<3,>=2.27->streamlit) (2025.6.15)\n",
            "Requirement already satisfied: smmap<6,>=3.0.1 in /usr/local/lib/python3.11/dist-packages (from gitdb<5,>=4.0.1->gitpython!=3.1.19,<4,>=3.0.7->streamlit) (5.0.2)\n",
            "Requirement already satisfied: MarkupSafe>=2.0 in /usr/local/lib/python3.11/dist-packages (from jinja2->altair<6,>=4.0->streamlit) (3.0.2)\n",
            "Requirement already satisfied: attrs>=22.2.0 in /usr/local/lib/python3.11/dist-packages (from jsonschema>=3.0->altair<6,>=4.0->streamlit) (25.3.0)\n",
            "Requirement already satisfied: jsonschema-specifications>=2023.03.6 in /usr/local/lib/python3.11/dist-packages (from jsonschema>=3.0->altair<6,>=4.0->streamlit) (2025.4.1)\n",
            "Requirement already satisfied: referencing>=0.28.4 in /usr/local/lib/python3.11/dist-packages (from jsonschema>=3.0->altair<6,>=4.0->streamlit) (0.36.2)\n",
            "Requirement already satisfied: rpds-py>=0.7.1 in /usr/local/lib/python3.11/dist-packages (from jsonschema>=3.0->altair<6,>=4.0->streamlit) (0.25.1)\n",
            "Requirement already satisfied: six>=1.5 in /usr/local/lib/python3.11/dist-packages (from python-dateutil>=2.8.2->pandas<3,>=1.4.0->streamlit) (1.17.0)\n",
            "Downloading streamlit-1.46.1-py3-none-any.whl (10.1 MB)\n",
            "\u001b[2K   \u001b[90m━━━━━━━━━━━━━━━━━━━━━━━━━━━━━━━━━━━━━━━━\u001b[0m \u001b[32m10.1/10.1 MB\u001b[0m \u001b[31m55.9 MB/s\u001b[0m eta \u001b[36m0:00:00\u001b[0m\n",
            "\u001b[?25hDownloading streamlit_option_menu-0.4.0-py3-none-any.whl (829 kB)\n",
            "\u001b[2K   \u001b[90m━━━━━━━━━━━━━━━━━━━━━━━━━━━━━━━━━━━━━━━━\u001b[0m \u001b[32m829.3/829.3 kB\u001b[0m \u001b[31m47.3 MB/s\u001b[0m eta \u001b[36m0:00:00\u001b[0m\n",
            "\u001b[?25hDownloading pydeck-0.9.1-py2.py3-none-any.whl (6.9 MB)\n",
            "\u001b[2K   \u001b[90m━━━━━━━━━━━━━━━━━━━━━━━━━━━━━━━━━━━━━━━━\u001b[0m \u001b[32m6.9/6.9 MB\u001b[0m \u001b[31m101.5 MB/s\u001b[0m eta \u001b[36m0:00:00\u001b[0m\n",
            "\u001b[?25hDownloading watchdog-6.0.0-py3-none-manylinux2014_x86_64.whl (79 kB)\n",
            "\u001b[2K   \u001b[90m━━━━━━━━━━━━━━━━━━━━━━━━━━━━━━━━━━━━━━━━\u001b[0m \u001b[32m79.1/79.1 kB\u001b[0m \u001b[31m6.1 MB/s\u001b[0m eta \u001b[36m0:00:00\u001b[0m\n",
            "\u001b[?25hInstalling collected packages: watchdog, pydeck, streamlit, streamlit_option_menu\n",
            "Successfully installed pydeck-0.9.1 streamlit-1.46.1 streamlit_option_menu-0.4.0 watchdog-6.0.0\n"
          ]
        }
      ]
    },
    {
      "cell_type": "code",
      "source": [
        "# Writing code in .py file format used to support streamlit\n",
        "%%writefile app.py\n",
        "import streamlit as st\n",
        "import pandas as pd\n",
        "import mysql.connector\n",
        "import datetime\n",
        "suhail = mysql.connector.connect(host=\"gateway01.ap-southeast-1.prod.aws.tidbcloud.com\",\n",
        "                                 user=\"2XT5EKXhUVwb2JW.root\",\n",
        "                                 password=\"YO7YdnLJV098Hccw\",\n",
        "                                 port = 4000,\n",
        "                                 database=\"NASA_Project\")\n",
        "connection = suhail.cursor()\n",
        "st.sidebar.title(\"🌠 Asteroid Approach\")\n",
        "st.sidebar.divider()\n",
        "menu = st.sidebar.radio(\"Navigate\",(\"Filter Criteria\", \"Queries\"))\n",
        "st.title(\"🚀 :blue[Asteroid Tracker for Earth] ☄️\")\n",
        "st.divider()\n",
        "if menu == \"Filter Criteria\":\n",
        "  left, middle, right = st.columns(3) # Organizing the data using sliders and select boxes\n",
        "  min_mag = left.slider(\"Min Magnitude\", 13.00, 32.61, (13.00, 32.61))\n",
        "  velocity = middle.slider(\"Relative_velocity_kmph Range\", 1418.21, 173071.83, (1418.21, 173071.83))\n",
        "  min_dia = left.slider(\"Min Estimated Diameter(km)\", 0.00, 4.62, (0.00, 4.62))\n",
        "  max_dia = left.slider(\"Max Estimated Diameter(km)\", 0.00, 10.33, (0.00, 10.33))\n",
        "  astronomical = middle.slider(\"Astronomical unit\", 0.00, 0.50, (0.00, 0.50))\n",
        "  hazard = middle.selectbox(\"Only Show Potentially Hazardous\", (\"1\", \"0\"))\n",
        "  str_dt = right.date_input(\"Start Date\", datetime.date(2024, 1, 1))\n",
        "  end_dt = right.date_input(\"End Date\", datetime.date(2024, 1, 7))\n",
        "  button = st.button(\"Filter\")\n",
        "  if button:\n",
        "    st.header(\"Filtered Asteroids\", divider=\"blue\")\n",
        "    query = \"\"\"select distinct a.id, a.name, a.absolute_magnitude_h, a.estimated_diameter_min_km, a.estimated_diameter_max_km,\n",
        "              a.is_potentially_hazardous_asteroid, c.neo_reference_id, c.close_approach_date, c.relative_velocity_kmph, c.astronomical,\n",
        "              c.miss_distance_km, c.miss_distance_lunar, c.orbiting_body\n",
        "              from asteroids a\n",
        "              join close_approach c on a.id = c.neo_reference_id\n",
        "              where a.absolute_magnitude_h between %s and %s\n",
        "              and a.estimated_diameter_min_km between %s and %s\n",
        "              and a.estimated_diameter_max_km between %s and %s\n",
        "              and c.relative_velocity_kmph between %s and %s\n",
        "              and c.astronomical between %s and %s\n",
        "              and c.close_approach_date between %s and %s\n",
        "              and a.is_potentially_hazardous_asteroid = %s order by a.id\"\"\" # Query used to display data based on the applied filters over sliders and select box\n",
        "    params = (min_mag[0], min_mag[1],\n",
        "             min_dia[0], min_dia[1],\n",
        "             max_dia[0], max_dia[1],\n",
        "             velocity[0], velocity[1],\n",
        "             astronomical[0], astronomical[1],\n",
        "               str_dt, end_dt, int(hazard)) # Parameters are used to pass on based on the appiled filters\n",
        "    connection.execute(query, params)\n",
        "    records = connection.fetchall()\n",
        "    df = pd.DataFrame(records, columns=[col[0] for col in connection.description])\n",
        "    st.dataframe(df)\n",
        "elif menu == \"Queries\": # Code written for another tab of side menu to diplay the quries based on the requirements\n",
        "    option = st.selectbox(\n",
        "        \"Select your Query\",\n",
        "        (\n",
        "            \"Count of how many times each asteroid has approached Earth\",\n",
        "            \"Average velocity of each asteroid over multiple approaches\",\n",
        "            \"List top 10 fastest asteroids\",\n",
        "            \"Potentially hazardous asteroids that have approached Earth more than 3 times\",\n",
        "            \"Month with the most asteroid approaches\",\n",
        "            \"Asteroid with the fastest ever approach speed\",\n",
        "            \"Sorted Asteroids in descending order by maximum estimated diameter\",\n",
        "            \"Asteroid whose closest approach is getting nearer over time\",\n",
        "            \"Asteroids of its closest approach to Earth along with the date and miss distance\",\n",
        "            \"Asteroids that approached Earth with velocity > 50,000 km/h\",\n",
        "            \"Count of asteroids approaches happened per month\",\n",
        "            \"Asteroid with the highest brightness\",\n",
        "            \"Number of hazardous vs non-hazardous asteroids\",\n",
        "            \"Asteroids that passed closer than the Moon (lesser than 1 LD), along with their close approach date and distance\",\n",
        "            \"Asteroids that came within 0.05 AU\"\n",
        "        )\n",
        "    )\n",
        "\n",
        "    if option == \"Count of how many times each asteroid has approached Earth\":\n",
        "        query1 = \"\"\"select a.name, count(c.neo_reference_id) as count from asteroids a join close_approach c on a.id = c.neo_reference_id group by a.name\"\"\"\n",
        "        df1 = pd.read_sql(query1, suhail)\n",
        "        st.dataframe(df1)\n",
        "    elif option == \"Average velocity of each asteroid over multiple approaches\":\n",
        "        query2 = \"\"\"select a.name, avg(c.relative_velocity_kmph) as average_velocity from asteroids a join close_approach c on a.id = c.neo_reference_id group by a.name\"\"\"\n",
        "        df2 = pd.read_sql(query2, suhail)\n",
        "        st.dataframe(df2)\n",
        "    elif option == \"List top 10 fastest asteroids\":\n",
        "        query3 = \"\"\"select a.name, max(c.relative_velocity_kmph) as maximum_velocity from asteroids a join close_approach c on a.id = c.neo_reference_id group by a.name order by maximum_velocity desc limit 10\"\"\"\n",
        "        df3 = pd.read_sql(query3, suhail)\n",
        "        st.dataframe(df3)\n",
        "    elif option == \"Potentially hazardous asteroids that have approached Earth more than 3 times\":\n",
        "        query4 = \"\"\"select a.name, count(c.neo_reference_id) as Approached_Earth_more_than_3_times from asteroids a join close_approach c on a.id = c.neo_reference_id where a.is_potentially_hazardous_asteroid = 1 group by a.name having count(c.neo_reference_id) > 3\"\"\"\n",
        "        df4 = pd.read_sql(query4, suhail)\n",
        "        st.dataframe(df4)\n",
        "    elif option == \"Month with the most asteroid approaches\":\n",
        "        query5 = \"\"\"select monthname(close_approach_date) as Month_with_the_most_asteroid_approaches, count(*) as approach_count from close_approach group by Month_with_the_most_asteroid_approaches\"\"\"\n",
        "        df5 = pd.read_sql(query5, suhail)\n",
        "        st.dataframe(df5)\n",
        "    elif option == \"Asteroid with the fastest ever approach speed\":\n",
        "        query6 = \"\"\"select a.name, max(c.relative_velocity_kmph) as maximum_speed from asteroids a join close_approach c on a.id = c.neo_reference_id group by a.name order by maximum_speed desc limit 1;\"\"\"\n",
        "        df6 = pd.read_sql(query6, suhail)\n",
        "        st.dataframe(df6)\n",
        "    elif option == \"Sorted Asteroids in descending order by maximum estimated diameter\":\n",
        "        query7 = \"\"\"select name, estimated_diameter_max_km from asteroids order by estimated_diameter_max_km desc\"\"\"\n",
        "        df7 = pd.read_sql(query7, suhail)\n",
        "    elif option == \"Asteroid whose closest approach is getting nearer over time\":\n",
        "        query8 = \"\"\"select a.name, c.miss_distance_km from asteroids a join close_approach c on a.id = c.neo_reference_id order by close_approach_date\"\"\"\n",
        "        df8 = pd.read_sql(query8, suhail)\n",
        "        st.dataframe(df8)\n",
        "    elif option == \"Asteroids of its closest approach to Earth along with the date and miss distance\":\n",
        "        query9 = \"\"\"select a.name, c.close_approach_date, c.miss_distance_km from asteroids a join close_approach c on a.id = c.neo_reference_id\"\"\"\n",
        "        df9 = pd.read_sql(query9, suhail)\n",
        "        st.dataframe(df9)\n",
        "    elif option == \"Asteroids that approached Earth with velocity > 50,000 km/h\":\n",
        "        query10 = \"\"\"select distinct a.name from asteroids a join close_approach c on a.id = c.neo_reference_id where c.relative_velocity_kmph > 50000\"\"\"\n",
        "        df10 = pd.read_sql(query10, suhail)\n",
        "        st.dataframe(df10)\n",
        "    elif option == \"Count of asteroids approaches happened per month\":\n",
        "        query11 = \"\"\"select month(close_approach_date), count(*) as approach_count from close_approach group by month(close_approach_date)\"\"\"\n",
        "        df11 = pd.read_sql(query11, suhail)\n",
        "        st.dataframe(df11)\n",
        "    elif option == \"Asteroid with the highest brightness\":\n",
        "        query12 = \"\"\"select name, absolute_magnitude_h from asteroids order by absolute_magnitude_h limit 1\"\"\"\n",
        "        df12 = pd.read_sql(query12, suhail)\n",
        "        st.dataframe(df12)\n",
        "    elif option == \"Number of hazardous vs non-hazardous asteroids\":\n",
        "        query13 = \"\"\"select is_potentially_hazardous_asteroid as hazardous_status, count(*) as asteroid_count from asteroids group by is_potentially_hazardous_asteroid\"\"\"\n",
        "        df13 = pd.read_sql(query13, suhail)\n",
        "        st.dataframe(df13)\n",
        "    elif option == \"Asteroids that passed closer than the Moon (lesser than 1 LD), along with their close approach date and distance\":\n",
        "        query14 = \"\"\"select a.name, c.close_approach_date, c.miss_distance_lunar from asteroids a join close_approach c on a.id = c.neo_reference_id where c.miss_distance_lunar < 1 order by c.miss_distance_lunar\"\"\"\n",
        "        df14 = pd.read_sql(query14, suhail)\n",
        "        st.dataframe(df14)\n",
        "    elif option == \"Asteroids that came within 0.05 AU\":\n",
        "        query15 = \"\"\"select a.name, c.astronomical from asteroids a join close_approach c on a.id = c.neo_reference_id where c.astronomical < 0.05\"\"\"\n",
        "        df15 = pd.read_sql(query15, suhail)\n",
        "        st.dataframe(df15)"
      ],
      "metadata": {
        "colab": {
          "base_uri": "https://localhost:8080/"
        },
        "id": "yCjRATZWbm8y",
        "outputId": "b6db782c-d228-46f0-9a70-d131fa26cdad"
      },
      "execution_count": null,
      "outputs": [
        {
          "output_type": "stream",
          "name": "stdout",
          "text": [
            "Overwriting app.py\n"
          ]
        }
      ]
    },
    {
      "cell_type": "code",
      "source": [
        "!wget -q -O - ipv4.icanhazip.com"
      ],
      "metadata": {
        "colab": {
          "base_uri": "https://localhost:8080/"
        },
        "id": "QHctCbohb0B_",
        "outputId": "f17c85a5-61b4-490a-c567-eff84dcce42c"
      },
      "execution_count": null,
      "outputs": [
        {
          "output_type": "stream",
          "name": "stdout",
          "text": [
            "34.81.185.30\n"
          ]
        }
      ]
    },
    {
      "cell_type": "code",
      "source": [
        "! streamlit run app.py & npx localtunnel --port 8501"
      ],
      "metadata": {
        "colab": {
          "base_uri": "https://localhost:8080/"
        },
        "id": "6vIjHvQdb3bg",
        "outputId": "9d47fc1d-ca66-4bf7-ec64-cb699282dfc2"
      },
      "execution_count": null,
      "outputs": [
        {
          "output_type": "stream",
          "name": "stdout",
          "text": [
            "\n",
            "Collecting usage statistics. To deactivate, set browser.gatherUsageStats to false.\n",
            "\u001b[0m\n",
            "\u001b[1G\u001b[0K⠙\u001b[1G\u001b[0K⠹\u001b[1G\u001b[0K⠸\u001b[0m\n",
            "\u001b[34m\u001b[1m  You can now view your Streamlit app in your browser.\u001b[0m\n",
            "\u001b[0m\n",
            "\u001b[34m  Local URL: \u001b[0m\u001b[1mhttp://localhost:8501\u001b[0m\n",
            "\u001b[34m  Network URL: \u001b[0m\u001b[1mhttp://172.28.0.12:8501\u001b[0m\n",
            "\u001b[34m  External URL: \u001b[0m\u001b[1mhttp://34.81.185.30:8501\u001b[0m\n",
            "\u001b[0m\n",
            "\u001b[1G\u001b[0K⠼\u001b[1G\u001b[0K⠴\u001b[1G\u001b[0K⠦\u001b[1G\u001b[0K⠧\u001b[1G\u001b[0K⠇\u001b[1G\u001b[0K⠏\u001b[1G\u001b[0K⠋\u001b[1G\u001b[0Kyour url is: https://tiny-pugs-tan.loca.lt\n",
            "/content/app.py:17: UserWarning: pandas only supports SQLAlchemy connectable (engine/connection) or database string URI or sqlite3 DBAPI2 connection. Other DBAPI2 objects are not tested. Please consider using SQLAlchemy.\n",
            "  df = pd.read_sql(query, suhail)\n",
            "/content/app.py:17: UserWarning: pandas only supports SQLAlchemy connectable (engine/connection) or database string URI or sqlite3 DBAPI2 connection. Other DBAPI2 objects are not tested. Please consider using SQLAlchemy.\n",
            "  df = pd.read_sql(query, suhail)\n",
            "/content/app.py:17: UserWarning: pandas only supports SQLAlchemy connectable (engine/connection) or database string URI or sqlite3 DBAPI2 connection. Other DBAPI2 objects are not tested. Please consider using SQLAlchemy.\n",
            "  df = pd.read_sql(query, suhail)\n",
            "/content/app.py:17: UserWarning: pandas only supports SQLAlchemy connectable (engine/connection) or database string URI or sqlite3 DBAPI2 connection. Other DBAPI2 objects are not tested. Please consider using SQLAlchemy.\n",
            "  df = pd.read_sql(query, suhail)\n",
            "/content/app.py:17: UserWarning: pandas only supports SQLAlchemy connectable (engine/connection) or database string URI or sqlite3 DBAPI2 connection. Other DBAPI2 objects are not tested. Please consider using SQLAlchemy.\n",
            "  df = pd.read_sql(query, suhail)\n",
            "/content/app.py:17: UserWarning: pandas only supports SQLAlchemy connectable (engine/connection) or database string URI or sqlite3 DBAPI2 connection. Other DBAPI2 objects are not tested. Please consider using SQLAlchemy.\n",
            "  df = pd.read_sql(query, suhail)\n",
            "/content/app.py:17: UserWarning: pandas only supports SQLAlchemy connectable (engine/connection) or database string URI or sqlite3 DBAPI2 connection. Other DBAPI2 objects are not tested. Please consider using SQLAlchemy.\n",
            "  df = pd.read_sql(query, suhail)\n",
            "/content/app.py:17: UserWarning: pandas only supports SQLAlchemy connectable (engine/connection) or database string URI or sqlite3 DBAPI2 connection. Other DBAPI2 objects are not tested. Please consider using SQLAlchemy.\n",
            "  df = pd.read_sql(query, suhail)\n",
            "/content/app.py:17: UserWarning: pandas only supports SQLAlchemy connectable (engine/connection) or database string URI or sqlite3 DBAPI2 connection. Other DBAPI2 objects are not tested. Please consider using SQLAlchemy.\n",
            "  df = pd.read_sql(query, suhail)\n",
            "/content/app.py:17: UserWarning: pandas only supports SQLAlchemy connectable (engine/connection) or database string URI or sqlite3 DBAPI2 connection. Other DBAPI2 objects are not tested. Please consider using SQLAlchemy.\n",
            "  df = pd.read_sql(query, suhail)\n",
            "/content/app.py:17: UserWarning: pandas only supports SQLAlchemy connectable (engine/connection) or database string URI or sqlite3 DBAPI2 connection. Other DBAPI2 objects are not tested. Please consider using SQLAlchemy.\n",
            "  df = pd.read_sql(query, suhail)\n",
            "/content/app.py:17: UserWarning: pandas only supports SQLAlchemy connectable (engine/connection) or database string URI or sqlite3 DBAPI2 connection. Other DBAPI2 objects are not tested. Please consider using SQLAlchemy.\n",
            "  df = pd.read_sql(query, suhail)\n",
            "/content/app.py:17: UserWarning: pandas only supports SQLAlchemy connectable (engine/connection) or database string URI or sqlite3 DBAPI2 connection. Other DBAPI2 objects are not tested. Please consider using SQLAlchemy.\n",
            "  df = pd.read_sql(query, suhail)\n",
            "/content/app.py:17: UserWarning: pandas only supports SQLAlchemy connectable (engine/connection) or database string URI or sqlite3 DBAPI2 connection. Other DBAPI2 objects are not tested. Please consider using SQLAlchemy.\n",
            "  df = pd.read_sql(query, suhail)\n",
            "/content/app.py:17: UserWarning: pandas only supports SQLAlchemy connectable (engine/connection) or database string URI or sqlite3 DBAPI2 connection. Other DBAPI2 objects are not tested. Please consider using SQLAlchemy.\n",
            "  df = pd.read_sql(query, suhail)\n",
            "/content/app.py:17: UserWarning: pandas only supports SQLAlchemy connectable (engine/connection) or database string URI or sqlite3 DBAPI2 connection. Other DBAPI2 objects are not tested. Please consider using SQLAlchemy.\n",
            "  df = pd.read_sql(query, suhail)\n",
            "/content/app.py:17: UserWarning: pandas only supports SQLAlchemy connectable (engine/connection) or database string URI or sqlite3 DBAPI2 connection. Other DBAPI2 objects are not tested. Please consider using SQLAlchemy.\n",
            "  df = pd.read_sql(query, suhail)\n",
            "/content/app.py:17: UserWarning: pandas only supports SQLAlchemy connectable (engine/connection) or database string URI or sqlite3 DBAPI2 connection. Other DBAPI2 objects are not tested. Please consider using SQLAlchemy.\n",
            "  df = pd.read_sql(query, suhail)\n",
            "\u001b[34m  Stopping...\u001b[0m\n",
            "^C\n"
          ]
        }
      ]
    }
  ]
}